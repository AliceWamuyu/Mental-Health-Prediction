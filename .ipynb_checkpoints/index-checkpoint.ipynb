{
 "cells": [
  {
   "cell_type": "markdown",
   "id": "bd946a5d",
   "metadata": {},
   "source": [
    "## 2. Data Understanding"
   ]
  },
  {
   "cell_type": "code",
   "execution_count": 86,
   "id": "9650ea50",
   "metadata": {},
   "outputs": [],
   "source": [
    "import pandas as pd\n",
    "import nltk\n",
    "from nltk.stem import WordNetLemmatizer\n",
    "from nltk.stem.porter import PorterStemmer\n",
    "\n",
    "# import files\n",
    "train_df = pd.read_csv('Train.csv')\n",
    "validation_df = pd.read_csv('Test.csv')"
   ]
  },
  {
   "cell_type": "code",
   "execution_count": 87,
   "id": "03dde7a8",
   "metadata": {},
   "outputs": [
    {
     "name": "stdout",
     "output_type": "stream",
     "text": [
      "The train data shape: (616, 3)\n",
      "The test data shape: (309, 2)\n"
     ]
    }
   ],
   "source": [
    "# shape of the datasets\n",
    "print(f'The train data shape: {train_df.shape}')\n",
    "print(f'The test data shape: {validation_df.shape}')"
   ]
  },
  {
   "cell_type": "code",
   "execution_count": 88,
   "id": "d126de24",
   "metadata": {},
   "outputs": [
    {
     "name": "stdout",
     "output_type": "stream",
     "text": [
      "The train data columns: \n",
      " Index(['ID', 'text', 'label'], dtype='object')\n",
      "The test data columns: \n",
      " Index(['ID', 'text'], dtype='object')\n"
     ]
    }
   ],
   "source": [
    "# the columns in the datasets\n",
    "print(f'The train data columns: \\n {train_df.columns}')\n",
    "print(f'The test data columns: \\n {validation_df.columns}')"
   ]
  },
  {
   "cell_type": "code",
   "execution_count": 89,
   "id": "df512500",
   "metadata": {},
   "outputs": [
    {
     "name": "stdout",
     "output_type": "stream",
     "text": [
      "<class 'pandas.core.frame.DataFrame'>\n",
      "RangeIndex: 616 entries, 0 to 615\n",
      "Data columns (total 3 columns):\n",
      " #   Column  Non-Null Count  Dtype \n",
      "---  ------  --------------  ----- \n",
      " 0   ID      616 non-null    object\n",
      " 1   text    616 non-null    object\n",
      " 2   label   616 non-null    object\n",
      "dtypes: object(3)\n",
      "memory usage: 14.6+ KB\n",
      "The train data info: None \n",
      " \n",
      "\n",
      "<class 'pandas.core.frame.DataFrame'>\n",
      "RangeIndex: 309 entries, 0 to 308\n",
      "Data columns (total 2 columns):\n",
      " #   Column  Non-Null Count  Dtype \n",
      "---  ------  --------------  ----- \n",
      " 0   ID      309 non-null    object\n",
      " 1   text    309 non-null    object\n",
      "dtypes: object(2)\n",
      "memory usage: 5.0+ KB\n",
      "The test data info: None\n"
     ]
    }
   ],
   "source": [
    "# the info\n",
    "print(f'The train data info: {train_df.info()} \\n \\n')\n",
    "print(f'The test data info: {validation_df.info()}')"
   ]
  },
  {
   "cell_type": "code",
   "execution_count": 90,
   "id": "a537cf2c",
   "metadata": {},
   "outputs": [
    {
     "data": {
      "text/plain": [
       "Depression    0.571429\n",
       "Alcohol       0.227273\n",
       "Suicide       0.107143\n",
       "Drugs         0.094156\n",
       "Name: label, dtype: float64"
      ]
     },
     "execution_count": 90,
     "metadata": {},
     "output_type": "execute_result"
    }
   ],
   "source": [
    "# classes proportionality \n",
    "train_df['label'].value_counts(normalize=True)"
   ]
  },
  {
   "cell_type": "code",
   "execution_count": 91,
   "id": "010a00bc",
   "metadata": {},
   "outputs": [
    {
     "data": {
      "text/plain": [
       "0      39\n",
       "1      28\n",
       "2      57\n",
       "3      22\n",
       "4      51\n",
       "       ..\n",
       "611    36\n",
       "612    30\n",
       "613    24\n",
       "614    16\n",
       "615    31\n",
       "Name: length, Length: 616, dtype: int64"
      ]
     },
     "execution_count": 91,
     "metadata": {},
     "output_type": "execute_result"
    }
   ],
   "source": [
    "train_df['length'] =  train_df['text'].apply(len)\n",
    "train_df['length']"
   ]
  },
  {
   "cell_type": "code",
   "execution_count": 92,
   "id": "b827835f",
   "metadata": {},
   "outputs": [
    {
     "data": {
      "text/html": [
       "<div>\n",
       "<style scoped>\n",
       "    .dataframe tbody tr th:only-of-type {\n",
       "        vertical-align: middle;\n",
       "    }\n",
       "\n",
       "    .dataframe tbody tr th {\n",
       "        vertical-align: top;\n",
       "    }\n",
       "\n",
       "    .dataframe thead th {\n",
       "        text-align: right;\n",
       "    }\n",
       "</style>\n",
       "<table border=\"1\" class=\"dataframe\">\n",
       "  <thead>\n",
       "    <tr style=\"text-align: right;\">\n",
       "      <th></th>\n",
       "      <th>length</th>\n",
       "    </tr>\n",
       "  </thead>\n",
       "  <tbody>\n",
       "    <tr>\n",
       "      <th>count</th>\n",
       "      <td>616.000000</td>\n",
       "    </tr>\n",
       "    <tr>\n",
       "      <th>mean</th>\n",
       "      <td>39.813312</td>\n",
       "    </tr>\n",
       "    <tr>\n",
       "      <th>std</th>\n",
       "      <td>21.438797</td>\n",
       "    </tr>\n",
       "    <tr>\n",
       "      <th>min</th>\n",
       "      <td>8.000000</td>\n",
       "    </tr>\n",
       "    <tr>\n",
       "      <th>25%</th>\n",
       "      <td>26.000000</td>\n",
       "    </tr>\n",
       "    <tr>\n",
       "      <th>50%</th>\n",
       "      <td>35.000000</td>\n",
       "    </tr>\n",
       "    <tr>\n",
       "      <th>75%</th>\n",
       "      <td>48.250000</td>\n",
       "    </tr>\n",
       "    <tr>\n",
       "      <th>max</th>\n",
       "      <td>196.000000</td>\n",
       "    </tr>\n",
       "  </tbody>\n",
       "</table>\n",
       "</div>"
      ],
      "text/plain": [
       "           length\n",
       "count  616.000000\n",
       "mean    39.813312\n",
       "std     21.438797\n",
       "min      8.000000\n",
       "25%     26.000000\n",
       "50%     35.000000\n",
       "75%     48.250000\n",
       "max    196.000000"
      ]
     },
     "execution_count": 92,
     "metadata": {},
     "output_type": "execute_result"
    }
   ],
   "source": [
    "train_df.describe()"
   ]
  },
  {
   "cell_type": "code",
   "execution_count": 93,
   "id": "345f4195",
   "metadata": {},
   "outputs": [
    {
     "data": {
      "text/html": [
       "<div>\n",
       "<style scoped>\n",
       "    .dataframe tbody tr th:only-of-type {\n",
       "        vertical-align: middle;\n",
       "    }\n",
       "\n",
       "    .dataframe tbody tr th {\n",
       "        vertical-align: top;\n",
       "    }\n",
       "\n",
       "    .dataframe thead th {\n",
       "        text-align: right;\n",
       "    }\n",
       "</style>\n",
       "<table border=\"1\" class=\"dataframe\">\n",
       "  <thead>\n",
       "    <tr style=\"text-align: right;\">\n",
       "      <th></th>\n",
       "      <th>ID</th>\n",
       "      <th>text</th>\n",
       "      <th>label</th>\n",
       "      <th>length</th>\n",
       "    </tr>\n",
       "  </thead>\n",
       "  <tbody>\n",
       "    <tr>\n",
       "      <th>194</th>\n",
       "      <td>J55053XP</td>\n",
       "      <td>I am financially constrained over school fees ...</td>\n",
       "      <td>Depression</td>\n",
       "      <td>196</td>\n",
       "    </tr>\n",
       "  </tbody>\n",
       "</table>\n",
       "</div>"
      ],
      "text/plain": [
       "           ID                                               text       label  \\\n",
       "194  J55053XP  I am financially constrained over school fees ...  Depression   \n",
       "\n",
       "     length  \n",
       "194     196  "
      ]
     },
     "execution_count": 93,
     "metadata": {},
     "output_type": "execute_result"
    }
   ],
   "source": [
    "train_df[train_df['length'] == 196]"
   ]
  },
  {
   "cell_type": "code",
   "execution_count": 94,
   "id": "b5d2d4f1",
   "metadata": {},
   "outputs": [
    {
     "name": "stdout",
     "output_type": "stream",
     "text": [
      "I am financially constrained over school fees and my  family background is not stable with a lot of debts…I have an elderly brother who could easily support me but has no job even after graduating\n"
     ]
    }
   ],
   "source": [
    "print(train_df['text'].iloc[194])"
   ]
  },
  {
   "cell_type": "code",
   "execution_count": null,
   "id": "52e88007",
   "metadata": {},
   "outputs": [],
   "source": []
  },
  {
   "cell_type": "markdown",
   "id": "ca10eea1",
   "metadata": {},
   "source": [
    "## 3. Data Preparation"
   ]
  },
  {
   "cell_type": "code",
   "execution_count": 95,
   "id": "a19c06b3",
   "metadata": {},
   "outputs": [
    {
     "data": {
      "text/html": [
       "<div>\n",
       "<style scoped>\n",
       "    .dataframe tbody tr th:only-of-type {\n",
       "        vertical-align: middle;\n",
       "    }\n",
       "\n",
       "    .dataframe tbody tr th {\n",
       "        vertical-align: top;\n",
       "    }\n",
       "\n",
       "    .dataframe thead th {\n",
       "        text-align: right;\n",
       "    }\n",
       "</style>\n",
       "<table border=\"1\" class=\"dataframe\">\n",
       "  <thead>\n",
       "    <tr style=\"text-align: right;\">\n",
       "      <th></th>\n",
       "      <th>ID</th>\n",
       "      <th>text</th>\n",
       "      <th>label</th>\n",
       "      <th>length</th>\n",
       "    </tr>\n",
       "  </thead>\n",
       "  <tbody>\n",
       "    <tr>\n",
       "      <th>0</th>\n",
       "      <td>SUAVK39Z</td>\n",
       "      <td>i feel that it was better i dieam happy</td>\n",
       "      <td>Depression</td>\n",
       "      <td>39</td>\n",
       "    </tr>\n",
       "    <tr>\n",
       "      <th>1</th>\n",
       "      <td>9JDAGUV3</td>\n",
       "      <td>why do i get hallucinations?</td>\n",
       "      <td>Drugs</td>\n",
       "      <td>28</td>\n",
       "    </tr>\n",
       "    <tr>\n",
       "      <th>2</th>\n",
       "      <td>419WR1LQ</td>\n",
       "      <td>i am stresseed due to lack of financial suppor...</td>\n",
       "      <td>Depression</td>\n",
       "      <td>57</td>\n",
       "    </tr>\n",
       "    <tr>\n",
       "      <th>3</th>\n",
       "      <td>6UY7DX6Q</td>\n",
       "      <td>why is life important?</td>\n",
       "      <td>Suicide</td>\n",
       "      <td>22</td>\n",
       "    </tr>\n",
       "    <tr>\n",
       "      <th>4</th>\n",
       "      <td>FYC0FTFB</td>\n",
       "      <td>how could i be helped to go through the depres...</td>\n",
       "      <td>Depression</td>\n",
       "      <td>51</td>\n",
       "    </tr>\n",
       "  </tbody>\n",
       "</table>\n",
       "</div>"
      ],
      "text/plain": [
       "         ID                                               text       label  \\\n",
       "0  SUAVK39Z            i feel that it was better i dieam happy  Depression   \n",
       "1  9JDAGUV3                       why do i get hallucinations?       Drugs   \n",
       "2  419WR1LQ  i am stresseed due to lack of financial suppor...  Depression   \n",
       "3  6UY7DX6Q                             why is life important?     Suicide   \n",
       "4  FYC0FTFB  how could i be helped to go through the depres...  Depression   \n",
       "\n",
       "   length  \n",
       "0      39  \n",
       "1      28  \n",
       "2      57  \n",
       "3      22  \n",
       "4      51  "
      ]
     },
     "execution_count": 95,
     "metadata": {},
     "output_type": "execute_result"
    }
   ],
   "source": [
    "# changing text to lowercase\n",
    "train_df['text'] = train_df['text'].apply(lambda x: x.lower())\n",
    "train_df.head()"
   ]
  },
  {
   "cell_type": "code",
   "execution_count": 96,
   "id": "9cd439c0",
   "metadata": {},
   "outputs": [
    {
     "data": {
      "text/html": [
       "<div>\n",
       "<style scoped>\n",
       "    .dataframe tbody tr th:only-of-type {\n",
       "        vertical-align: middle;\n",
       "    }\n",
       "\n",
       "    .dataframe tbody tr th {\n",
       "        vertical-align: top;\n",
       "    }\n",
       "\n",
       "    .dataframe thead th {\n",
       "        text-align: right;\n",
       "    }\n",
       "</style>\n",
       "<table border=\"1\" class=\"dataframe\">\n",
       "  <thead>\n",
       "    <tr style=\"text-align: right;\">\n",
       "      <th></th>\n",
       "      <th>ID</th>\n",
       "      <th>text</th>\n",
       "      <th>label</th>\n",
       "      <th>length</th>\n",
       "    </tr>\n",
       "  </thead>\n",
       "  <tbody>\n",
       "    <tr>\n",
       "      <th>0</th>\n",
       "      <td>SUAVK39Z</td>\n",
       "      <td>i feel that it was better i dieam happy</td>\n",
       "      <td>Depression</td>\n",
       "      <td>39</td>\n",
       "    </tr>\n",
       "    <tr>\n",
       "      <th>1</th>\n",
       "      <td>9JDAGUV3</td>\n",
       "      <td>why do i get hallucinations</td>\n",
       "      <td>Drugs</td>\n",
       "      <td>28</td>\n",
       "    </tr>\n",
       "    <tr>\n",
       "      <th>2</th>\n",
       "      <td>419WR1LQ</td>\n",
       "      <td>i am stresseed due to lack of financial suppor...</td>\n",
       "      <td>Depression</td>\n",
       "      <td>57</td>\n",
       "    </tr>\n",
       "    <tr>\n",
       "      <th>3</th>\n",
       "      <td>6UY7DX6Q</td>\n",
       "      <td>why is life important</td>\n",
       "      <td>Suicide</td>\n",
       "      <td>22</td>\n",
       "    </tr>\n",
       "    <tr>\n",
       "      <th>4</th>\n",
       "      <td>FYC0FTFB</td>\n",
       "      <td>how could i be helped to go through the depres...</td>\n",
       "      <td>Depression</td>\n",
       "      <td>51</td>\n",
       "    </tr>\n",
       "  </tbody>\n",
       "</table>\n",
       "</div>"
      ],
      "text/plain": [
       "         ID                                               text       label  \\\n",
       "0  SUAVK39Z            i feel that it was better i dieam happy  Depression   \n",
       "1  9JDAGUV3                        why do i get hallucinations       Drugs   \n",
       "2  419WR1LQ  i am stresseed due to lack of financial suppor...  Depression   \n",
       "3  6UY7DX6Q                              why is life important     Suicide   \n",
       "4  FYC0FTFB  how could i be helped to go through the depres...  Depression   \n",
       "\n",
       "   length  \n",
       "0      39  \n",
       "1      28  \n",
       "2      57  \n",
       "3      22  \n",
       "4      51  "
      ]
     },
     "execution_count": 96,
     "metadata": {},
     "output_type": "execute_result"
    }
   ],
   "source": [
    "# removing the punctuation marks\n",
    "import string\n",
    "\n",
    "punc_to_rem = '!\"#$%&\\'()*+,-./:;<=>?@[\\\\]^_`{|}~...'\n",
    "\n",
    "train_df['text'] = train_df['text'].apply(lambda x: x.translate(str.maketrans('', '', punc_to_rem)))\n",
    "\n",
    "train_df.head()"
   ]
  },
  {
   "cell_type": "code",
   "execution_count": 97,
   "id": "48aa168d",
   "metadata": {
    "scrolled": true
   },
   "outputs": [
    {
     "name": "stdout",
     "output_type": "stream",
     "text": [
      "i am facing a lot of challenges in life financially emotionally psycologically and with no solutions…how can i safely look for solutions about depression on google\n"
     ]
    }
   ],
   "source": [
    "print(train_df['text'].iloc[48])"
   ]
  },
  {
   "cell_type": "code",
   "execution_count": 98,
   "id": "6acd150a",
   "metadata": {},
   "outputs": [
    {
     "data": {
      "text/html": [
       "<div>\n",
       "<style scoped>\n",
       "    .dataframe tbody tr th:only-of-type {\n",
       "        vertical-align: middle;\n",
       "    }\n",
       "\n",
       "    .dataframe tbody tr th {\n",
       "        vertical-align: top;\n",
       "    }\n",
       "\n",
       "    .dataframe thead th {\n",
       "        text-align: right;\n",
       "    }\n",
       "</style>\n",
       "<table border=\"1\" class=\"dataframe\">\n",
       "  <thead>\n",
       "    <tr style=\"text-align: right;\">\n",
       "      <th></th>\n",
       "      <th>ID</th>\n",
       "      <th>text</th>\n",
       "      <th>label</th>\n",
       "      <th>length</th>\n",
       "      <th>corrected_sent</th>\n",
       "    </tr>\n",
       "  </thead>\n",
       "  <tbody>\n",
       "    <tr>\n",
       "      <th>0</th>\n",
       "      <td>SUAVK39Z</td>\n",
       "      <td>i feel that it was better i dieam happy</td>\n",
       "      <td>Depression</td>\n",
       "      <td>39</td>\n",
       "      <td>i feel that it was better i dream happy</td>\n",
       "    </tr>\n",
       "    <tr>\n",
       "      <th>1</th>\n",
       "      <td>9JDAGUV3</td>\n",
       "      <td>why do i get hallucinations</td>\n",
       "      <td>Drugs</td>\n",
       "      <td>28</td>\n",
       "      <td>why do i get hallucinations</td>\n",
       "    </tr>\n",
       "    <tr>\n",
       "      <th>2</th>\n",
       "      <td>419WR1LQ</td>\n",
       "      <td>i am stresseed due to lack of financial suppor...</td>\n",
       "      <td>Depression</td>\n",
       "      <td>57</td>\n",
       "      <td>i am stressed due to lack of financial support...</td>\n",
       "    </tr>\n",
       "    <tr>\n",
       "      <th>3</th>\n",
       "      <td>6UY7DX6Q</td>\n",
       "      <td>why is life important</td>\n",
       "      <td>Suicide</td>\n",
       "      <td>22</td>\n",
       "      <td>why is life important</td>\n",
       "    </tr>\n",
       "    <tr>\n",
       "      <th>4</th>\n",
       "      <td>FYC0FTFB</td>\n",
       "      <td>how could i be helped to go through the depres...</td>\n",
       "      <td>Depression</td>\n",
       "      <td>51</td>\n",
       "      <td>how could i be helped to go through the depres...</td>\n",
       "    </tr>\n",
       "  </tbody>\n",
       "</table>\n",
       "</div>"
      ],
      "text/plain": [
       "         ID                                               text       label  \\\n",
       "0  SUAVK39Z            i feel that it was better i dieam happy  Depression   \n",
       "1  9JDAGUV3                        why do i get hallucinations       Drugs   \n",
       "2  419WR1LQ  i am stresseed due to lack of financial suppor...  Depression   \n",
       "3  6UY7DX6Q                              why is life important     Suicide   \n",
       "4  FYC0FTFB  how could i be helped to go through the depres...  Depression   \n",
       "\n",
       "   length                                     corrected_sent  \n",
       "0      39            i feel that it was better i dream happy  \n",
       "1      28                        why do i get hallucinations  \n",
       "2      57  i am stressed due to lack of financial support...  \n",
       "3      22                              why is life important  \n",
       "4      51  how could i be helped to go through the depres...  "
      ]
     },
     "execution_count": 98,
     "metadata": {},
     "output_type": "execute_result"
    }
   ],
   "source": [
    "from textblob import TextBlob\n",
    "\n",
    "def correct_sent(x):\n",
    "    correction = TextBlob(str(x))\n",
    "    correction = correction.correct()\n",
    "    \n",
    "    # print(correction)\n",
    "    return correction\n",
    "\n",
    "train_df['corrected_sent'] = train_df['text'].apply(lambda x: str(correct_sent(x)))\n",
    "train_df.head()"
   ]
  },
  {
   "cell_type": "code",
   "execution_count": 39,
   "id": "38ae71d4",
   "metadata": {},
   "outputs": [
    {
     "name": "stderr",
     "output_type": "stream",
     "text": [
      "[nltk_data] Downloading package punkt to\n",
      "[nltk_data]     C:\\Users\\GM\\AppData\\Roaming\\nltk_data...\n",
      "[nltk_data]   Unzipping tokenizers\\punkt.zip.\n"
     ]
    },
    {
     "data": {
      "text/plain": [
       "True"
      ]
     },
     "execution_count": 39,
     "metadata": {},
     "output_type": "execute_result"
    }
   ],
   "source": [
    "\n",
    "# nltk.download('wordnet')\n",
    "# nltk.download('omw-1.4')\n",
    "nltk.download('punkt')"
   ]
  },
  {
   "cell_type": "code",
   "execution_count": 100,
   "id": "9d10351c",
   "metadata": {
    "scrolled": true
   },
   "outputs": [
    {
     "data": {
      "text/html": [
       "<div>\n",
       "<style scoped>\n",
       "    .dataframe tbody tr th:only-of-type {\n",
       "        vertical-align: middle;\n",
       "    }\n",
       "\n",
       "    .dataframe tbody tr th {\n",
       "        vertical-align: top;\n",
       "    }\n",
       "\n",
       "    .dataframe thead th {\n",
       "        text-align: right;\n",
       "    }\n",
       "</style>\n",
       "<table border=\"1\" class=\"dataframe\">\n",
       "  <thead>\n",
       "    <tr style=\"text-align: right;\">\n",
       "      <th></th>\n",
       "      <th>ID</th>\n",
       "      <th>text</th>\n",
       "      <th>label</th>\n",
       "      <th>length</th>\n",
       "      <th>corrected_sent</th>\n",
       "      <th>no_stopwords</th>\n",
       "    </tr>\n",
       "  </thead>\n",
       "  <tbody>\n",
       "    <tr>\n",
       "      <th>0</th>\n",
       "      <td>SUAVK39Z</td>\n",
       "      <td>i feel that it was better i dieam happy</td>\n",
       "      <td>Depression</td>\n",
       "      <td>39</td>\n",
       "      <td>i feel that it was better i dream happy</td>\n",
       "      <td>feel better dream happy</td>\n",
       "    </tr>\n",
       "    <tr>\n",
       "      <th>1</th>\n",
       "      <td>9JDAGUV3</td>\n",
       "      <td>why do i get hallucinations</td>\n",
       "      <td>Drugs</td>\n",
       "      <td>28</td>\n",
       "      <td>why do i get hallucinations</td>\n",
       "      <td>get hallucinations</td>\n",
       "    </tr>\n",
       "    <tr>\n",
       "      <th>2</th>\n",
       "      <td>419WR1LQ</td>\n",
       "      <td>i am stresseed due to lack of financial suppor...</td>\n",
       "      <td>Depression</td>\n",
       "      <td>57</td>\n",
       "      <td>i am stressed due to lack of financial support...</td>\n",
       "      <td>stress due lack financial support school</td>\n",
       "    </tr>\n",
       "    <tr>\n",
       "      <th>3</th>\n",
       "      <td>6UY7DX6Q</td>\n",
       "      <td>why is life important</td>\n",
       "      <td>Suicide</td>\n",
       "      <td>22</td>\n",
       "      <td>why is life important</td>\n",
       "      <td>life important</td>\n",
       "    </tr>\n",
       "    <tr>\n",
       "      <th>4</th>\n",
       "      <td>FYC0FTFB</td>\n",
       "      <td>how could i be helped to go through the depres...</td>\n",
       "      <td>Depression</td>\n",
       "      <td>51</td>\n",
       "      <td>how could i be helped to go through the depres...</td>\n",
       "      <td>could help go depression</td>\n",
       "    </tr>\n",
       "  </tbody>\n",
       "</table>\n",
       "</div>"
      ],
      "text/plain": [
       "         ID                                               text       label  \\\n",
       "0  SUAVK39Z            i feel that it was better i dieam happy  Depression   \n",
       "1  9JDAGUV3                        why do i get hallucinations       Drugs   \n",
       "2  419WR1LQ  i am stresseed due to lack of financial suppor...  Depression   \n",
       "3  6UY7DX6Q                              why is life important     Suicide   \n",
       "4  FYC0FTFB  how could i be helped to go through the depres...  Depression   \n",
       "\n",
       "   length                                     corrected_sent  \\\n",
       "0      39            i feel that it was better i dream happy   \n",
       "1      28                        why do i get hallucinations   \n",
       "2      57  i am stressed due to lack of financial support...   \n",
       "3      22                              why is life important   \n",
       "4      51  how could i be helped to go through the depres...   \n",
       "\n",
       "                               no_stopwords  \n",
       "0                   feel better dream happy  \n",
       "1                        get hallucinations  \n",
       "2  stress due lack financial support school  \n",
       "3                            life important  \n",
       "4                  could help go depression  "
      ]
     },
     "execution_count": 100,
     "metadata": {},
     "output_type": "execute_result"
    }
   ],
   "source": [
    "# removing stop words (Karen)\n",
    "stopwords = nltk.corpus.stopwords.words('english')\n",
    "wordnet_lemmatizer = WordNetLemmatizer()\n",
    "\n",
    "def remove_stopwords(x):\n",
    "    sent = [wordnet_lemmatizer.lemmatize(i, 'v') for i in x.split() if i not in stopwords]\n",
    "    return ' '.join(sent)\n",
    "\n",
    "train_df['no_stopwords'] = train_df['corrected_sent'].apply(lambda x: remove_stopwords(x))\n",
    "\n",
    "train_df.head()"
   ]
  },
  {
   "cell_type": "code",
   "execution_count": 37,
   "id": "cba87f4a",
   "metadata": {},
   "outputs": [
    {
     "name": "stdout",
     "output_type": "stream",
     "text": [
      "financially constrain school fee family background stable lot debts…i elderly brother could easily support job even granulate\n",
      " \n",
      "\n",
      "face lot challenge life financially, emotional, psycologically solutions…how safely look solutions depression goose\n"
     ]
    }
   ],
   "source": [
    "# find a way to handle the extra punctation (e.g '...')\n",
    "print(train_df['no_stopwords'].iloc[194] + '\\n \\n')\n",
    "\n",
    "print(train_df['no_stopwords'].iloc[48])"
   ]
  },
  {
   "cell_type": "code",
   "execution_count": 101,
   "id": "6a0df0e4",
   "metadata": {},
   "outputs": [
    {
     "data": {
      "text/html": [
       "<div>\n",
       "<style scoped>\n",
       "    .dataframe tbody tr th:only-of-type {\n",
       "        vertical-align: middle;\n",
       "    }\n",
       "\n",
       "    .dataframe tbody tr th {\n",
       "        vertical-align: top;\n",
       "    }\n",
       "\n",
       "    .dataframe thead th {\n",
       "        text-align: right;\n",
       "    }\n",
       "</style>\n",
       "<table border=\"1\" class=\"dataframe\">\n",
       "  <thead>\n",
       "    <tr style=\"text-align: right;\">\n",
       "      <th></th>\n",
       "      <th>ID</th>\n",
       "      <th>text</th>\n",
       "      <th>label</th>\n",
       "      <th>length</th>\n",
       "      <th>corrected_sent</th>\n",
       "      <th>no_stopwords</th>\n",
       "      <th>tokenized_text</th>\n",
       "    </tr>\n",
       "  </thead>\n",
       "  <tbody>\n",
       "    <tr>\n",
       "      <th>0</th>\n",
       "      <td>SUAVK39Z</td>\n",
       "      <td>i feel that it was better i dieam happy</td>\n",
       "      <td>Depression</td>\n",
       "      <td>39</td>\n",
       "      <td>i feel that it was better i dream happy</td>\n",
       "      <td>feel better dream happy</td>\n",
       "      <td>[feel, better, dream, happy]</td>\n",
       "    </tr>\n",
       "    <tr>\n",
       "      <th>1</th>\n",
       "      <td>9JDAGUV3</td>\n",
       "      <td>why do i get hallucinations</td>\n",
       "      <td>Drugs</td>\n",
       "      <td>28</td>\n",
       "      <td>why do i get hallucinations</td>\n",
       "      <td>get hallucinations</td>\n",
       "      <td>[get, hallucinations]</td>\n",
       "    </tr>\n",
       "    <tr>\n",
       "      <th>2</th>\n",
       "      <td>419WR1LQ</td>\n",
       "      <td>i am stresseed due to lack of financial suppor...</td>\n",
       "      <td>Depression</td>\n",
       "      <td>57</td>\n",
       "      <td>i am stressed due to lack of financial support...</td>\n",
       "      <td>stress due lack financial support school</td>\n",
       "      <td>[stress, due, lack, financial, support, school]</td>\n",
       "    </tr>\n",
       "    <tr>\n",
       "      <th>3</th>\n",
       "      <td>6UY7DX6Q</td>\n",
       "      <td>why is life important</td>\n",
       "      <td>Suicide</td>\n",
       "      <td>22</td>\n",
       "      <td>why is life important</td>\n",
       "      <td>life important</td>\n",
       "      <td>[life, important]</td>\n",
       "    </tr>\n",
       "    <tr>\n",
       "      <th>4</th>\n",
       "      <td>FYC0FTFB</td>\n",
       "      <td>how could i be helped to go through the depres...</td>\n",
       "      <td>Depression</td>\n",
       "      <td>51</td>\n",
       "      <td>how could i be helped to go through the depres...</td>\n",
       "      <td>could help go depression</td>\n",
       "      <td>[could, help, go, depression]</td>\n",
       "    </tr>\n",
       "  </tbody>\n",
       "</table>\n",
       "</div>"
      ],
      "text/plain": [
       "         ID                                               text       label  \\\n",
       "0  SUAVK39Z            i feel that it was better i dieam happy  Depression   \n",
       "1  9JDAGUV3                        why do i get hallucinations       Drugs   \n",
       "2  419WR1LQ  i am stresseed due to lack of financial suppor...  Depression   \n",
       "3  6UY7DX6Q                              why is life important     Suicide   \n",
       "4  FYC0FTFB  how could i be helped to go through the depres...  Depression   \n",
       "\n",
       "   length                                     corrected_sent  \\\n",
       "0      39            i feel that it was better i dream happy   \n",
       "1      28                        why do i get hallucinations   \n",
       "2      57  i am stressed due to lack of financial support...   \n",
       "3      22                              why is life important   \n",
       "4      51  how could i be helped to go through the depres...   \n",
       "\n",
       "                               no_stopwords  \\\n",
       "0                   feel better dream happy   \n",
       "1                        get hallucinations   \n",
       "2  stress due lack financial support school   \n",
       "3                            life important   \n",
       "4                  could help go depression   \n",
       "\n",
       "                                    tokenized_text  \n",
       "0                     [feel, better, dream, happy]  \n",
       "1                            [get, hallucinations]  \n",
       "2  [stress, due, lack, financial, support, school]  \n",
       "3                                [life, important]  \n",
       "4                    [could, help, go, depression]  "
      ]
     },
     "execution_count": 101,
     "metadata": {},
     "output_type": "execute_result"
    }
   ],
   "source": [
    "# tokenizing the sentences\n",
    "train_df['tokenized_text'] = train_df['no_stopwords'].apply(lambda x: nltk.word_tokenize(x))\n",
    "train_df.head()"
   ]
  },
  {
   "cell_type": "code",
   "execution_count": null,
   "id": "6b781c85",
   "metadata": {},
   "outputs": [],
   "source": [
    "# Convert sentences into vectors\n",
    "train_df['vector_sent'] = "
   ]
  },
  {
   "cell_type": "code",
   "execution_count": null,
   "id": "93f153dc",
   "metadata": {},
   "outputs": [],
   "source": []
  },
  {
   "cell_type": "code",
   "execution_count": null,
   "id": "13b252e2",
   "metadata": {},
   "outputs": [],
   "source": []
  },
  {
   "cell_type": "code",
   "execution_count": null,
   "id": "065fa7fa",
   "metadata": {},
   "outputs": [],
   "source": []
  },
  {
   "cell_type": "code",
   "execution_count": null,
   "id": "e00e7d57",
   "metadata": {},
   "outputs": [],
   "source": []
  }
 ],
 "metadata": {
  "kernelspec": {
   "display_name": "Python 3 (ipykernel)",
   "language": "python",
   "name": "python3"
  },
  "language_info": {
   "codemirror_mode": {
    "name": "ipython",
    "version": 3
   },
   "file_extension": ".py",
   "mimetype": "text/x-python",
   "name": "python",
   "nbconvert_exporter": "python",
   "pygments_lexer": "ipython3",
   "version": "3.9.12"
  }
 },
 "nbformat": 4,
 "nbformat_minor": 5
}
