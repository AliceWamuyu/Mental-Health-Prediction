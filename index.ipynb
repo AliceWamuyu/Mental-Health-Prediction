{
 "cells": [
  {
   "attachments": {},
   "cell_type": "markdown",
   "id": "926a030e",
   "metadata": {},
   "source": [
    "# **Mental Health Prediction**\n",
    "\n",
    "##### **Authors**:\n",
    "<ul type='square'> \n",
    "    <li> Alice Wamuyu</li>\n",
    "    <li> Eugene Kuloba </li>\n",
    "    <li> Fridah Kimathi </li>\n",
    "    <li> Karen Amanya  </li>\n",
    "    <li> Nicholus Magak  </li>\n",
    "    <li> Nobert Akwir </li>\n",
    "</ul>"
   ]
  },
  {
   "attachments": {},
   "cell_type": "markdown",
   "id": "c2668ecc",
   "metadata": {},
   "source": [
    "#  **1. Business Understanding**"
   ]
  },
  {
   "attachments": {},
   "cell_type": "markdown",
   "id": "c92dfede",
   "metadata": {},
   "source": [
    "## **Objectives**\n",
    "> ### **General Objective**\n",
    "\n",
    "> ### **Specific Objectives**\n",
    "<ul type='square'  \n",
    "    <li >  </li>\n",
    "    <li>  </li>\n",
    "    <li>  </li>\n",
    "    <li>  </li>\n",
    "    <li>  </li>\n",
    "    <li>  </li>\n",
    "</ul>\n",
    "\n"
   ]
  },
  {
   "attachments": {},
   "cell_type": "markdown",
   "id": "c5adedfe",
   "metadata": {},
   "source": [
    "### **Importing the required libraries**"
   ]
  },
  {
   "cell_type": "code",
   "execution_count": 1,
   "id": "9650ea50",
   "metadata": {},
   "outputs": [],
   "source": [
    "import pandas as pd\n",
    "import string\n",
    "from textblob import TextBlob, Word\n",
    "import nltk\n",
    "from nltk.stem import WordNetLemmatizer\n",
    "from nltk.stem.porter import PorterStemmer\n",
    "\n",
    "## To install textblob : conda install -c conda-forge textblob in terminal"
   ]
  },
  {
   "attachments": {},
   "cell_type": "markdown",
   "id": "00eb33ab",
   "metadata": {},
   "source": [
    "# **2. Data Understanding**\n",
    "\n",
    "The data used in this project is from the <a href=\"https://zindi.africa/competitions/basic-needs-basic-rights-kenya-tech4mentalhealth/data\">  Basic Needs Basic Rights Kenya - Tech4MentalHealth</a> competition hosted by Zindi Africa. The data consists of statements and questions expressed by students from multiple universities across Kenya who reported suffering from these different mental health challenges. he wording of the statements is intended to respond to the prompting question, “What is on your mind?”"
   ]
  },
  {
   "attachments": {},
   "cell_type": "markdown",
   "id": "f901a07b",
   "metadata": {},
   "source": [
    "#### **Loading the data**"
   ]
  },
  {
   "cell_type": "code",
   "execution_count": 2,
   "id": "df61ebb0",
   "metadata": {},
   "outputs": [],
   "source": [
    "train_df = pd.read_csv('Data/Train.csv')\n",
    "validation_df = pd.read_csv('Data/Test.csv')"
   ]
  },
  {
   "cell_type": "code",
   "execution_count": 3,
   "id": "03dde7a8",
   "metadata": {},
   "outputs": [
    {
     "name": "stdout",
     "output_type": "stream",
     "text": [
      "The train data shape: (616, 3)\n",
      "The test data shape: (309, 2)\n"
     ]
    }
   ],
   "source": [
    "# shape of the datasets\n",
    "print(f'The train data shape: {train_df.shape}')\n",
    "print(f'The test data shape: {validation_df.shape}')"
   ]
  },
  {
   "cell_type": "code",
   "execution_count": 4,
   "id": "d126de24",
   "metadata": {},
   "outputs": [
    {
     "name": "stdout",
     "output_type": "stream",
     "text": [
      "The train data columns: \n",
      " Index(['ID', 'text', 'label'], dtype='object') \n",
      "\n",
      "The test data columns: \n",
      " Index(['ID', 'text'], dtype='object')\n"
     ]
    }
   ],
   "source": [
    "# the columns in the datasets\n",
    "print(f'The train data columns: \\n {train_df.columns} \\n')\n",
    "print(f'The test data columns: \\n {validation_df.columns}')"
   ]
  },
  {
   "cell_type": "code",
   "execution_count": 5,
   "id": "df512500",
   "metadata": {},
   "outputs": [
    {
     "name": "stdout",
     "output_type": "stream",
     "text": [
      "<class 'pandas.core.frame.DataFrame'>\n",
      "RangeIndex: 616 entries, 0 to 615\n",
      "Data columns (total 3 columns):\n",
      " #   Column  Non-Null Count  Dtype \n",
      "---  ------  --------------  ----- \n",
      " 0   ID      616 non-null    object\n",
      " 1   text    616 non-null    object\n",
      " 2   label   616 non-null    object\n",
      "dtypes: object(3)\n",
      "memory usage: 14.6+ KB\n",
      "The train data info: None \n",
      " \n",
      "\n",
      "<class 'pandas.core.frame.DataFrame'>\n",
      "RangeIndex: 309 entries, 0 to 308\n",
      "Data columns (total 2 columns):\n",
      " #   Column  Non-Null Count  Dtype \n",
      "---  ------  --------------  ----- \n",
      " 0   ID      309 non-null    object\n",
      " 1   text    309 non-null    object\n",
      "dtypes: object(2)\n",
      "memory usage: 5.0+ KB\n",
      "The test data info: None\n"
     ]
    }
   ],
   "source": [
    "# the info\n",
    "print(f'The train data info: {train_df.info()} \\n \\n')\n",
    "print(f'The test data info: {validation_df.info()}')"
   ]
  },
  {
   "cell_type": "code",
   "execution_count": 6,
   "id": "a537cf2c",
   "metadata": {},
   "outputs": [
    {
     "data": {
      "text/plain": [
       "Depression    0.571429\n",
       "Alcohol       0.227273\n",
       "Suicide       0.107143\n",
       "Drugs         0.094156\n",
       "Name: label, dtype: float64"
      ]
     },
     "execution_count": 6,
     "metadata": {},
     "output_type": "execute_result"
    }
   ],
   "source": [
    "# classes proportionality \n",
    "train_df['label'].value_counts(normalize=True)\n",
    "\n",
    "    # There is class imbalance"
   ]
  },
  {
   "cell_type": "code",
   "execution_count": 7,
   "id": "010a00bc",
   "metadata": {},
   "outputs": [
    {
     "data": {
      "text/plain": [
       "0      39\n",
       "1      28\n",
       "2      57\n",
       "3      22\n",
       "4      51\n",
       "       ..\n",
       "611    36\n",
       "612    30\n",
       "613    24\n",
       "614    16\n",
       "615    31\n",
       "Name: length, Length: 616, dtype: int64"
      ]
     },
     "execution_count": 7,
     "metadata": {},
     "output_type": "execute_result"
    }
   ],
   "source": [
    "train_df['length'] =  train_df['text'].apply(len)\n",
    "train_df['length']"
   ]
  },
  {
   "cell_type": "code",
   "execution_count": 8,
   "id": "b827835f",
   "metadata": {},
   "outputs": [
    {
     "data": {
      "text/html": [
       "<div>\n",
       "<style scoped>\n",
       "    .dataframe tbody tr th:only-of-type {\n",
       "        vertical-align: middle;\n",
       "    }\n",
       "\n",
       "    .dataframe tbody tr th {\n",
       "        vertical-align: top;\n",
       "    }\n",
       "\n",
       "    .dataframe thead th {\n",
       "        text-align: right;\n",
       "    }\n",
       "</style>\n",
       "<table border=\"1\" class=\"dataframe\">\n",
       "  <thead>\n",
       "    <tr style=\"text-align: right;\">\n",
       "      <th></th>\n",
       "      <th>length</th>\n",
       "    </tr>\n",
       "  </thead>\n",
       "  <tbody>\n",
       "    <tr>\n",
       "      <th>count</th>\n",
       "      <td>616.000000</td>\n",
       "    </tr>\n",
       "    <tr>\n",
       "      <th>mean</th>\n",
       "      <td>39.813312</td>\n",
       "    </tr>\n",
       "    <tr>\n",
       "      <th>std</th>\n",
       "      <td>21.438797</td>\n",
       "    </tr>\n",
       "    <tr>\n",
       "      <th>min</th>\n",
       "      <td>8.000000</td>\n",
       "    </tr>\n",
       "    <tr>\n",
       "      <th>25%</th>\n",
       "      <td>26.000000</td>\n",
       "    </tr>\n",
       "    <tr>\n",
       "      <th>50%</th>\n",
       "      <td>35.000000</td>\n",
       "    </tr>\n",
       "    <tr>\n",
       "      <th>75%</th>\n",
       "      <td>48.250000</td>\n",
       "    </tr>\n",
       "    <tr>\n",
       "      <th>max</th>\n",
       "      <td>196.000000</td>\n",
       "    </tr>\n",
       "  </tbody>\n",
       "</table>\n",
       "</div>"
      ],
      "text/plain": [
       "           length\n",
       "count  616.000000\n",
       "mean    39.813312\n",
       "std     21.438797\n",
       "min      8.000000\n",
       "25%     26.000000\n",
       "50%     35.000000\n",
       "75%     48.250000\n",
       "max    196.000000"
      ]
     },
     "execution_count": 8,
     "metadata": {},
     "output_type": "execute_result"
    }
   ],
   "source": [
    "train_df.describe()\n",
    "\n",
    "# The smallest statement is 8 words long\n",
    "# The biggest statement is 196 words long"
   ]
  },
  {
   "cell_type": "code",
   "execution_count": 9,
   "id": "345f4195",
   "metadata": {},
   "outputs": [
    {
     "data": {
      "text/html": [
       "<div>\n",
       "<style scoped>\n",
       "    .dataframe tbody tr th:only-of-type {\n",
       "        vertical-align: middle;\n",
       "    }\n",
       "\n",
       "    .dataframe tbody tr th {\n",
       "        vertical-align: top;\n",
       "    }\n",
       "\n",
       "    .dataframe thead th {\n",
       "        text-align: right;\n",
       "    }\n",
       "</style>\n",
       "<table border=\"1\" class=\"dataframe\">\n",
       "  <thead>\n",
       "    <tr style=\"text-align: right;\">\n",
       "      <th></th>\n",
       "      <th>ID</th>\n",
       "      <th>text</th>\n",
       "      <th>label</th>\n",
       "      <th>length</th>\n",
       "    </tr>\n",
       "  </thead>\n",
       "  <tbody>\n",
       "    <tr>\n",
       "      <th>194</th>\n",
       "      <td>J55053XP</td>\n",
       "      <td>I am financially constrained over school fees ...</td>\n",
       "      <td>Depression</td>\n",
       "      <td>196</td>\n",
       "    </tr>\n",
       "  </tbody>\n",
       "</table>\n",
       "</div>"
      ],
      "text/plain": [
       "           ID                                               text       label  \\\n",
       "194  J55053XP  I am financially constrained over school fees ...  Depression   \n",
       "\n",
       "     length  \n",
       "194     196  "
      ]
     },
     "execution_count": 9,
     "metadata": {},
     "output_type": "execute_result"
    }
   ],
   "source": [
    "# Viewing the statement with the most words\n",
    "\n",
    "train_df[train_df['length'] == 196]"
   ]
  },
  {
   "cell_type": "code",
   "execution_count": 10,
   "id": "b5d2d4f1",
   "metadata": {},
   "outputs": [
    {
     "name": "stdout",
     "output_type": "stream",
     "text": [
      "I am financially constrained over school fees and my  family background is not stable with a lot of debts…I have an elderly brother who could easily support me but has no job even after graduating\n"
     ]
    }
   ],
   "source": [
    "# Viewing the statement with the most words\n",
    "\n",
    "print(train_df['text'].iloc[194])"
   ]
  },
  {
   "attachments": {},
   "cell_type": "markdown",
   "id": "ca10eea1",
   "metadata": {},
   "source": [
    "# **3. Data Preparation**"
   ]
  },
  {
   "attachments": {},
   "cell_type": "markdown",
   "id": "212cd0b8",
   "metadata": {},
   "source": [
    " #### **i. Correcting spelling mistakes**"
   ]
  },
  {
   "cell_type": "code",
   "execution_count": 11,
   "id": "4ff34493",
   "metadata": {},
   "outputs": [
    {
     "data": {
      "text/html": [
       "<div>\n",
       "<style scoped>\n",
       "    .dataframe tbody tr th:only-of-type {\n",
       "        vertical-align: middle;\n",
       "    }\n",
       "\n",
       "    .dataframe tbody tr th {\n",
       "        vertical-align: top;\n",
       "    }\n",
       "\n",
       "    .dataframe thead th {\n",
       "        text-align: right;\n",
       "    }\n",
       "</style>\n",
       "<table border=\"1\" class=\"dataframe\">\n",
       "  <thead>\n",
       "    <tr style=\"text-align: right;\">\n",
       "      <th></th>\n",
       "      <th>ID</th>\n",
       "      <th>text</th>\n",
       "      <th>label</th>\n",
       "      <th>length</th>\n",
       "      <th>corrected_sent</th>\n",
       "    </tr>\n",
       "  </thead>\n",
       "  <tbody>\n",
       "    <tr>\n",
       "      <th>0</th>\n",
       "      <td>SUAVK39Z</td>\n",
       "      <td>I feel that it was better I dieAm happy</td>\n",
       "      <td>Depression</td>\n",
       "      <td>39</td>\n",
       "      <td>I feel that it was better I die happy</td>\n",
       "    </tr>\n",
       "    <tr>\n",
       "      <th>1</th>\n",
       "      <td>9JDAGUV3</td>\n",
       "      <td>Why do I get hallucinations?</td>\n",
       "      <td>Drugs</td>\n",
       "      <td>28</td>\n",
       "      <td>Why do I get hallucinations?</td>\n",
       "    </tr>\n",
       "    <tr>\n",
       "      <th>2</th>\n",
       "      <td>419WR1LQ</td>\n",
       "      <td>I am stresseed due to lack of financial suppor...</td>\n",
       "      <td>Depression</td>\n",
       "      <td>57</td>\n",
       "      <td>I am stressed due to lack of financial support...</td>\n",
       "    </tr>\n",
       "    <tr>\n",
       "      <th>3</th>\n",
       "      <td>6UY7DX6Q</td>\n",
       "      <td>Why is life important?</td>\n",
       "      <td>Suicide</td>\n",
       "      <td>22</td>\n",
       "      <td>Why is life important?</td>\n",
       "    </tr>\n",
       "    <tr>\n",
       "      <th>4</th>\n",
       "      <td>FYC0FTFB</td>\n",
       "      <td>How could I be helped to go through the depres...</td>\n",
       "      <td>Depression</td>\n",
       "      <td>51</td>\n",
       "      <td>Now could I be helped to go through the depres...</td>\n",
       "    </tr>\n",
       "  </tbody>\n",
       "</table>\n",
       "</div>"
      ],
      "text/plain": [
       "         ID                                               text       label  \\\n",
       "0  SUAVK39Z            I feel that it was better I dieAm happy  Depression   \n",
       "1  9JDAGUV3                       Why do I get hallucinations?       Drugs   \n",
       "2  419WR1LQ  I am stresseed due to lack of financial suppor...  Depression   \n",
       "3  6UY7DX6Q                             Why is life important?     Suicide   \n",
       "4  FYC0FTFB  How could I be helped to go through the depres...  Depression   \n",
       "\n",
       "   length                                     corrected_sent  \n",
       "0      39              I feel that it was better I die happy  \n",
       "1      28                       Why do I get hallucinations?  \n",
       "2      57  I am stressed due to lack of financial support...  \n",
       "3      22                             Why is life important?  \n",
       "4      51  Now could I be helped to go through the depres...  "
      ]
     },
     "execution_count": 11,
     "metadata": {},
     "output_type": "execute_result"
    }
   ],
   "source": [
    "def correct_sent(text):\n",
    "    correction = TextBlob(text)\n",
    "    correction = correction.correct()\n",
    "    return str(correction)\n",
    "\n",
    "train_df['corrected_sent'] = train_df['text'].apply(lambda x: correct_sent(x))\n",
    "train_df.head()"
   ]
  },
  {
   "cell_type": "code",
   "execution_count": 12,
   "id": "6e26055c",
   "metadata": {},
   "outputs": [
    {
     "name": "stdout",
     "output_type": "stream",
     "text": [
      "I am financially constrained over school fees and my  family background is not stable with a lot of debts…I have an elderly brother who could easily support me but has no job even after granulating\n",
      " \n",
      "\n",
      "I am facing a lot of challenges in life financially, emotional, psycologically and with no solutions…Now can I safely look for solutions about depression on goose\n"
     ]
    }
   ],
   "source": [
    "# find a way to handle the extra punctation (e.g '...')\n",
    "print(train_df['corrected_sent'].iloc[194] + '\\n \\n')\n",
    "\n",
    "print(train_df['corrected_sent'].iloc[48])"
   ]
  },
  {
   "attachments": {},
   "cell_type": "markdown",
   "id": "769a2360",
   "metadata": {},
   "source": [
    " #### **ii. Changing text to lowercase**"
   ]
  },
  {
   "cell_type": "code",
   "execution_count": 13,
   "id": "a19c06b3",
   "metadata": {},
   "outputs": [
    {
     "data": {
      "text/html": [
       "<div>\n",
       "<style scoped>\n",
       "    .dataframe tbody tr th:only-of-type {\n",
       "        vertical-align: middle;\n",
       "    }\n",
       "\n",
       "    .dataframe tbody tr th {\n",
       "        vertical-align: top;\n",
       "    }\n",
       "\n",
       "    .dataframe thead th {\n",
       "        text-align: right;\n",
       "    }\n",
       "</style>\n",
       "<table border=\"1\" class=\"dataframe\">\n",
       "  <thead>\n",
       "    <tr style=\"text-align: right;\">\n",
       "      <th></th>\n",
       "      <th>ID</th>\n",
       "      <th>text</th>\n",
       "      <th>label</th>\n",
       "      <th>length</th>\n",
       "      <th>corrected_sent</th>\n",
       "    </tr>\n",
       "  </thead>\n",
       "  <tbody>\n",
       "    <tr>\n",
       "      <th>0</th>\n",
       "      <td>SUAVK39Z</td>\n",
       "      <td>I feel that it was better I dieAm happy</td>\n",
       "      <td>Depression</td>\n",
       "      <td>39</td>\n",
       "      <td>i feel that it was better i die happy</td>\n",
       "    </tr>\n",
       "    <tr>\n",
       "      <th>1</th>\n",
       "      <td>9JDAGUV3</td>\n",
       "      <td>Why do I get hallucinations?</td>\n",
       "      <td>Drugs</td>\n",
       "      <td>28</td>\n",
       "      <td>why do i get hallucinations?</td>\n",
       "    </tr>\n",
       "    <tr>\n",
       "      <th>2</th>\n",
       "      <td>419WR1LQ</td>\n",
       "      <td>I am stresseed due to lack of financial suppor...</td>\n",
       "      <td>Depression</td>\n",
       "      <td>57</td>\n",
       "      <td>i am stressed due to lack of financial support...</td>\n",
       "    </tr>\n",
       "    <tr>\n",
       "      <th>3</th>\n",
       "      <td>6UY7DX6Q</td>\n",
       "      <td>Why is life important?</td>\n",
       "      <td>Suicide</td>\n",
       "      <td>22</td>\n",
       "      <td>why is life important?</td>\n",
       "    </tr>\n",
       "    <tr>\n",
       "      <th>4</th>\n",
       "      <td>FYC0FTFB</td>\n",
       "      <td>How could I be helped to go through the depres...</td>\n",
       "      <td>Depression</td>\n",
       "      <td>51</td>\n",
       "      <td>now could i be helped to go through the depres...</td>\n",
       "    </tr>\n",
       "  </tbody>\n",
       "</table>\n",
       "</div>"
      ],
      "text/plain": [
       "         ID                                               text       label  \\\n",
       "0  SUAVK39Z            I feel that it was better I dieAm happy  Depression   \n",
       "1  9JDAGUV3                       Why do I get hallucinations?       Drugs   \n",
       "2  419WR1LQ  I am stresseed due to lack of financial suppor...  Depression   \n",
       "3  6UY7DX6Q                             Why is life important?     Suicide   \n",
       "4  FYC0FTFB  How could I be helped to go through the depres...  Depression   \n",
       "\n",
       "   length                                     corrected_sent  \n",
       "0      39              i feel that it was better i die happy  \n",
       "1      28                       why do i get hallucinations?  \n",
       "2      57  i am stressed due to lack of financial support...  \n",
       "3      22                             why is life important?  \n",
       "4      51  now could i be helped to go through the depres...  "
      ]
     },
     "execution_count": 13,
     "metadata": {},
     "output_type": "execute_result"
    }
   ],
   "source": [
    "\n",
    "train_df['corrected_sent'] = train_df['corrected_sent'].apply(lambda x: x.lower())\n",
    "train_df.head()"
   ]
  },
  {
   "attachments": {},
   "cell_type": "markdown",
   "id": "7d199288",
   "metadata": {},
   "source": [
    " #### **iii. Removing the punctuation marks**"
   ]
  },
  {
   "cell_type": "code",
   "execution_count": 14,
   "id": "37c1535f",
   "metadata": {},
   "outputs": [
    {
     "name": "stdout",
     "output_type": "stream",
     "text": [
      "i feel hopeless, unworthy and useless …now do i cope with stress and forge the past?\n",
      "i am facing a lot of challenges in life financially, emotional, psycologically and with no solutions…now can i safely look for solutions about depression on goose\n",
      "there i get money for my needs…there do i get money  for personal needs?\n",
      "i am financially constrained over school fees and my  family background is not stable with a lot of debts…i have an elderly brother who could easily support me but has no job even after granulating\n",
      "i feel desperate…why is the world so unfair\n",
      "by relatives deny me…i wonder if i am part of my family?\n"
     ]
    }
   ],
   "source": [
    "# Checking texts with special characters such as â€¦ represented as …\n",
    "for x in train_df['corrected_sent']:\n",
    "    if '…' in x:\n",
    "        print(x)"
   ]
  },
  {
   "cell_type": "code",
   "execution_count": 15,
   "id": "701a6dd2",
   "metadata": {},
   "outputs": [],
   "source": [
    "# Removing special characters â€¦ represented as …\n",
    "train_df['corrected_sent'] = train_df['corrected_sent'].apply(lambda x: x.replace('…', ' '))"
   ]
  },
  {
   "cell_type": "code",
   "execution_count": 16,
   "id": "9cd439c0",
   "metadata": {},
   "outputs": [
    {
     "data": {
      "text/html": [
       "<div>\n",
       "<style scoped>\n",
       "    .dataframe tbody tr th:only-of-type {\n",
       "        vertical-align: middle;\n",
       "    }\n",
       "\n",
       "    .dataframe tbody tr th {\n",
       "        vertical-align: top;\n",
       "    }\n",
       "\n",
       "    .dataframe thead th {\n",
       "        text-align: right;\n",
       "    }\n",
       "</style>\n",
       "<table border=\"1\" class=\"dataframe\">\n",
       "  <thead>\n",
       "    <tr style=\"text-align: right;\">\n",
       "      <th></th>\n",
       "      <th>ID</th>\n",
       "      <th>text</th>\n",
       "      <th>label</th>\n",
       "      <th>length</th>\n",
       "      <th>corrected_sent</th>\n",
       "    </tr>\n",
       "  </thead>\n",
       "  <tbody>\n",
       "    <tr>\n",
       "      <th>0</th>\n",
       "      <td>SUAVK39Z</td>\n",
       "      <td>I feel that it was better I dieAm happy</td>\n",
       "      <td>Depression</td>\n",
       "      <td>39</td>\n",
       "      <td>i feel that it was better i die happy</td>\n",
       "    </tr>\n",
       "    <tr>\n",
       "      <th>1</th>\n",
       "      <td>9JDAGUV3</td>\n",
       "      <td>Why do I get hallucinations?</td>\n",
       "      <td>Drugs</td>\n",
       "      <td>28</td>\n",
       "      <td>why do i get hallucinations</td>\n",
       "    </tr>\n",
       "    <tr>\n",
       "      <th>2</th>\n",
       "      <td>419WR1LQ</td>\n",
       "      <td>I am stresseed due to lack of financial suppor...</td>\n",
       "      <td>Depression</td>\n",
       "      <td>57</td>\n",
       "      <td>i am stressed due to lack of financial support...</td>\n",
       "    </tr>\n",
       "    <tr>\n",
       "      <th>3</th>\n",
       "      <td>6UY7DX6Q</td>\n",
       "      <td>Why is life important?</td>\n",
       "      <td>Suicide</td>\n",
       "      <td>22</td>\n",
       "      <td>why is life important</td>\n",
       "    </tr>\n",
       "    <tr>\n",
       "      <th>4</th>\n",
       "      <td>FYC0FTFB</td>\n",
       "      <td>How could I be helped to go through the depres...</td>\n",
       "      <td>Depression</td>\n",
       "      <td>51</td>\n",
       "      <td>now could i be helped to go through the depres...</td>\n",
       "    </tr>\n",
       "  </tbody>\n",
       "</table>\n",
       "</div>"
      ],
      "text/plain": [
       "         ID                                               text       label  \\\n",
       "0  SUAVK39Z            I feel that it was better I dieAm happy  Depression   \n",
       "1  9JDAGUV3                       Why do I get hallucinations?       Drugs   \n",
       "2  419WR1LQ  I am stresseed due to lack of financial suppor...  Depression   \n",
       "3  6UY7DX6Q                             Why is life important?     Suicide   \n",
       "4  FYC0FTFB  How could I be helped to go through the depres...  Depression   \n",
       "\n",
       "   length                                     corrected_sent  \n",
       "0      39              i feel that it was better i die happy  \n",
       "1      28                        why do i get hallucinations  \n",
       "2      57  i am stressed due to lack of financial support...  \n",
       "3      22                              why is life important  \n",
       "4      51  now could i be helped to go through the depres...  "
      ]
     },
     "execution_count": 16,
     "metadata": {},
     "output_type": "execute_result"
    }
   ],
   "source": [
    "\n",
    "punc_to_rem = '!\"#$%&\\'()*+,-./:;<=>?@[\\\\]^_`{|}~'\n",
    "\n",
    "train_df['corrected_sent'] = train_df['corrected_sent'].apply(lambda x: x.translate(str.maketrans('', '', punc_to_rem)))\n",
    "\n",
    "train_df.head()"
   ]
  },
  {
   "attachments": {},
   "cell_type": "markdown",
   "id": "2a3affb2",
   "metadata": {},
   "source": [
    " #### **iv. removing stop words**"
   ]
  },
  {
   "cell_type": "code",
   "execution_count": 17,
   "id": "76e32181",
   "metadata": {},
   "outputs": [],
   "source": [
    "# Downloading the necessary nltk packages. Uncomment to download\n",
    "\n",
    "#nltk.download('wordnet')\n",
    "#nltk.download('omw-1.4')\n",
    "#nltk.download('punkt')"
   ]
  },
  {
   "cell_type": "code",
   "execution_count": 18,
   "id": "9d10351c",
   "metadata": {
    "scrolled": true
   },
   "outputs": [
    {
     "data": {
      "text/html": [
       "<div>\n",
       "<style scoped>\n",
       "    .dataframe tbody tr th:only-of-type {\n",
       "        vertical-align: middle;\n",
       "    }\n",
       "\n",
       "    .dataframe tbody tr th {\n",
       "        vertical-align: top;\n",
       "    }\n",
       "\n",
       "    .dataframe thead th {\n",
       "        text-align: right;\n",
       "    }\n",
       "</style>\n",
       "<table border=\"1\" class=\"dataframe\">\n",
       "  <thead>\n",
       "    <tr style=\"text-align: right;\">\n",
       "      <th></th>\n",
       "      <th>ID</th>\n",
       "      <th>text</th>\n",
       "      <th>label</th>\n",
       "      <th>length</th>\n",
       "      <th>corrected_sent</th>\n",
       "      <th>no_stopwords</th>\n",
       "    </tr>\n",
       "  </thead>\n",
       "  <tbody>\n",
       "    <tr>\n",
       "      <th>0</th>\n",
       "      <td>SUAVK39Z</td>\n",
       "      <td>I feel that it was better I dieAm happy</td>\n",
       "      <td>Depression</td>\n",
       "      <td>39</td>\n",
       "      <td>i feel that it was better i die happy</td>\n",
       "      <td>feel better die happy</td>\n",
       "    </tr>\n",
       "    <tr>\n",
       "      <th>1</th>\n",
       "      <td>9JDAGUV3</td>\n",
       "      <td>Why do I get hallucinations?</td>\n",
       "      <td>Drugs</td>\n",
       "      <td>28</td>\n",
       "      <td>why do i get hallucinations</td>\n",
       "      <td>get hallucinations</td>\n",
       "    </tr>\n",
       "    <tr>\n",
       "      <th>2</th>\n",
       "      <td>419WR1LQ</td>\n",
       "      <td>I am stresseed due to lack of financial suppor...</td>\n",
       "      <td>Depression</td>\n",
       "      <td>57</td>\n",
       "      <td>i am stressed due to lack of financial support...</td>\n",
       "      <td>stress due lack financial support school</td>\n",
       "    </tr>\n",
       "    <tr>\n",
       "      <th>3</th>\n",
       "      <td>6UY7DX6Q</td>\n",
       "      <td>Why is life important?</td>\n",
       "      <td>Suicide</td>\n",
       "      <td>22</td>\n",
       "      <td>why is life important</td>\n",
       "      <td>life important</td>\n",
       "    </tr>\n",
       "    <tr>\n",
       "      <th>4</th>\n",
       "      <td>FYC0FTFB</td>\n",
       "      <td>How could I be helped to go through the depres...</td>\n",
       "      <td>Depression</td>\n",
       "      <td>51</td>\n",
       "      <td>now could i be helped to go through the depres...</td>\n",
       "      <td>could help go depression</td>\n",
       "    </tr>\n",
       "  </tbody>\n",
       "</table>\n",
       "</div>"
      ],
      "text/plain": [
       "         ID                                               text       label  \\\n",
       "0  SUAVK39Z            I feel that it was better I dieAm happy  Depression   \n",
       "1  9JDAGUV3                       Why do I get hallucinations?       Drugs   \n",
       "2  419WR1LQ  I am stresseed due to lack of financial suppor...  Depression   \n",
       "3  6UY7DX6Q                             Why is life important?     Suicide   \n",
       "4  FYC0FTFB  How could I be helped to go through the depres...  Depression   \n",
       "\n",
       "   length                                     corrected_sent  \\\n",
       "0      39              i feel that it was better i die happy   \n",
       "1      28                        why do i get hallucinations   \n",
       "2      57  i am stressed due to lack of financial support...   \n",
       "3      22                              why is life important   \n",
       "4      51  now could i be helped to go through the depres...   \n",
       "\n",
       "                               no_stopwords  \n",
       "0                     feel better die happy  \n",
       "1                        get hallucinations  \n",
       "2  stress due lack financial support school  \n",
       "3                            life important  \n",
       "4                  could help go depression  "
      ]
     },
     "execution_count": 18,
     "metadata": {},
     "output_type": "execute_result"
    }
   ],
   "source": [
    "stopwords = nltk.corpus.stopwords.words('english')\n",
    "wordnet_lemmatizer = WordNetLemmatizer()\n",
    "\n",
    "def remove_stopwords(x):\n",
    "    sent = [wordnet_lemmatizer.lemmatize(i, 'v') for i in x.split() if i not in stopwords]\n",
    "    return ' '.join(sent)\n",
    "\n",
    "train_df['no_stopwords'] = train_df['corrected_sent'].apply(lambda x: remove_stopwords(x))\n",
    "train_df.head()"
   ]
  },
  {
   "cell_type": "code",
   "execution_count": 19,
   "id": "cba87f4a",
   "metadata": {},
   "outputs": [
    {
     "name": "stdout",
     "output_type": "stream",
     "text": [
      "financially constrain school fee family background stable lot debts elderly brother could easily support job even granulate\n",
      " \n",
      "\n",
      "face lot challenge life financially emotional psycologically solutions safely look solutions depression goose\n"
     ]
    }
   ],
   "source": [
    "# find a way to handle the extra punctation (e.g '...')\n",
    "print(train_df['no_stopwords'].iloc[194] + '\\n \\n')\n",
    "\n",
    "print(train_df['no_stopwords'].iloc[48])"
   ]
  },
  {
   "attachments": {},
   "cell_type": "markdown",
   "id": "36f47ad9",
   "metadata": {},
   "source": [
    " #### **iv. Tokenizing the sentences**"
   ]
  },
  {
   "cell_type": "code",
   "execution_count": 20,
   "id": "6a0df0e4",
   "metadata": {},
   "outputs": [
    {
     "data": {
      "text/html": [
       "<div>\n",
       "<style scoped>\n",
       "    .dataframe tbody tr th:only-of-type {\n",
       "        vertical-align: middle;\n",
       "    }\n",
       "\n",
       "    .dataframe tbody tr th {\n",
       "        vertical-align: top;\n",
       "    }\n",
       "\n",
       "    .dataframe thead th {\n",
       "        text-align: right;\n",
       "    }\n",
       "</style>\n",
       "<table border=\"1\" class=\"dataframe\">\n",
       "  <thead>\n",
       "    <tr style=\"text-align: right;\">\n",
       "      <th></th>\n",
       "      <th>ID</th>\n",
       "      <th>text</th>\n",
       "      <th>label</th>\n",
       "      <th>length</th>\n",
       "      <th>corrected_sent</th>\n",
       "      <th>no_stopwords</th>\n",
       "      <th>tokenized_text</th>\n",
       "    </tr>\n",
       "  </thead>\n",
       "  <tbody>\n",
       "    <tr>\n",
       "      <th>0</th>\n",
       "      <td>SUAVK39Z</td>\n",
       "      <td>I feel that it was better I dieAm happy</td>\n",
       "      <td>Depression</td>\n",
       "      <td>39</td>\n",
       "      <td>i feel that it was better i die happy</td>\n",
       "      <td>feel better die happy</td>\n",
       "      <td>[feel, better, die, happy]</td>\n",
       "    </tr>\n",
       "    <tr>\n",
       "      <th>1</th>\n",
       "      <td>9JDAGUV3</td>\n",
       "      <td>Why do I get hallucinations?</td>\n",
       "      <td>Drugs</td>\n",
       "      <td>28</td>\n",
       "      <td>why do i get hallucinations</td>\n",
       "      <td>get hallucinations</td>\n",
       "      <td>[get, hallucinations]</td>\n",
       "    </tr>\n",
       "    <tr>\n",
       "      <th>2</th>\n",
       "      <td>419WR1LQ</td>\n",
       "      <td>I am stresseed due to lack of financial suppor...</td>\n",
       "      <td>Depression</td>\n",
       "      <td>57</td>\n",
       "      <td>i am stressed due to lack of financial support...</td>\n",
       "      <td>stress due lack financial support school</td>\n",
       "      <td>[stress, due, lack, financial, support, school]</td>\n",
       "    </tr>\n",
       "    <tr>\n",
       "      <th>3</th>\n",
       "      <td>6UY7DX6Q</td>\n",
       "      <td>Why is life important?</td>\n",
       "      <td>Suicide</td>\n",
       "      <td>22</td>\n",
       "      <td>why is life important</td>\n",
       "      <td>life important</td>\n",
       "      <td>[life, important]</td>\n",
       "    </tr>\n",
       "    <tr>\n",
       "      <th>4</th>\n",
       "      <td>FYC0FTFB</td>\n",
       "      <td>How could I be helped to go through the depres...</td>\n",
       "      <td>Depression</td>\n",
       "      <td>51</td>\n",
       "      <td>now could i be helped to go through the depres...</td>\n",
       "      <td>could help go depression</td>\n",
       "      <td>[could, help, go, depression]</td>\n",
       "    </tr>\n",
       "  </tbody>\n",
       "</table>\n",
       "</div>"
      ],
      "text/plain": [
       "         ID                                               text       label  \\\n",
       "0  SUAVK39Z            I feel that it was better I dieAm happy  Depression   \n",
       "1  9JDAGUV3                       Why do I get hallucinations?       Drugs   \n",
       "2  419WR1LQ  I am stresseed due to lack of financial suppor...  Depression   \n",
       "3  6UY7DX6Q                             Why is life important?     Suicide   \n",
       "4  FYC0FTFB  How could I be helped to go through the depres...  Depression   \n",
       "\n",
       "   length                                     corrected_sent  \\\n",
       "0      39              i feel that it was better i die happy   \n",
       "1      28                        why do i get hallucinations   \n",
       "2      57  i am stressed due to lack of financial support...   \n",
       "3      22                              why is life important   \n",
       "4      51  now could i be helped to go through the depres...   \n",
       "\n",
       "                               no_stopwords  \\\n",
       "0                     feel better die happy   \n",
       "1                        get hallucinations   \n",
       "2  stress due lack financial support school   \n",
       "3                            life important   \n",
       "4                  could help go depression   \n",
       "\n",
       "                                    tokenized_text  \n",
       "0                       [feel, better, die, happy]  \n",
       "1                            [get, hallucinations]  \n",
       "2  [stress, due, lack, financial, support, school]  \n",
       "3                                [life, important]  \n",
       "4                    [could, help, go, depression]  "
      ]
     },
     "execution_count": 20,
     "metadata": {},
     "output_type": "execute_result"
    }
   ],
   "source": [
    "# tokenizing the sentences\n",
    "train_df['tokenized_text'] = train_df['no_stopwords'].apply(lambda x: nltk.word_tokenize(x))\n",
    "train_df.head()"
   ]
  },
  {
   "attachments": {},
   "cell_type": "markdown",
   "id": "74338227",
   "metadata": {},
   "source": [
    " #### **iv. Vectorization**"
   ]
  },
  {
   "cell_type": "code",
   "execution_count": 21,
   "id": "6b781c85",
   "metadata": {},
   "outputs": [
    {
     "ename": "SyntaxError",
     "evalue": "invalid syntax (<ipython-input-21-dcf41ffd04d6>, line 2)",
     "output_type": "error",
     "traceback": [
      "\u001b[1;36m  File \u001b[1;32m\"<ipython-input-21-dcf41ffd04d6>\"\u001b[1;36m, line \u001b[1;32m2\u001b[0m\n\u001b[1;33m    train_df['vector_sent'] =\u001b[0m\n\u001b[1;37m                              ^\u001b[0m\n\u001b[1;31mSyntaxError\u001b[0m\u001b[1;31m:\u001b[0m invalid syntax\n"
     ]
    }
   ],
   "source": [
    "# Convert sentences into vectors\n",
    "train_df['vector_sent'] = "
   ]
  },
  {
   "cell_type": "code",
   "execution_count": null,
   "id": "93f153dc",
   "metadata": {},
   "outputs": [],
   "source": []
  },
  {
   "cell_type": "code",
   "execution_count": null,
   "id": "13b252e2",
   "metadata": {},
   "outputs": [],
   "source": []
  },
  {
   "attachments": {},
   "cell_type": "markdown",
   "id": "e19b53b5",
   "metadata": {},
   "source": [
    "# **3. Modelling**"
   ]
  },
  {
   "cell_type": "code",
   "execution_count": null,
   "id": "4b91861d",
   "metadata": {},
   "outputs": [],
   "source": []
  },
  {
   "attachments": {},
   "cell_type": "markdown",
   "id": "d62211aa",
   "metadata": {},
   "source": [
    "# **4. Evaluation**"
   ]
  },
  {
   "cell_type": "code",
   "execution_count": null,
   "id": "97991836",
   "metadata": {},
   "outputs": [],
   "source": []
  },
  {
   "attachments": {},
   "cell_type": "markdown",
   "id": "322b8d28",
   "metadata": {},
   "source": [
    "# **Conclusion and recommendations**"
   ]
  }
 ],
 "metadata": {
  "kernelspec": {
   "display_name": "learn-env",
   "language": "python",
   "name": "python3"
  },
  "language_info": {
   "codemirror_mode": {
    "name": "ipython",
    "version": 3
   },
   "file_extension": ".py",
   "mimetype": "text/x-python",
   "name": "python",
   "nbconvert_exporter": "python",
   "pygments_lexer": "ipython3",
   "version": "3.8.5"
  },
  "vscode": {
   "interpreter": {
    "hash": "15e1ea0e9ae73a04f4db62dd1e96b3b16ca57ecdaaf21916cbbe9da1fa870ff9"
   }
  }
 },
 "nbformat": 4,
 "nbformat_minor": 5
}
